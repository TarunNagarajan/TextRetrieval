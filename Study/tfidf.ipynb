{
  "nbformat": 4,
  "nbformat_minor": 0,
  "metadata": {
    "colab": {
      "provenance": [],
      "gpuType": "T4"
    },
    "kernelspec": {
      "name": "python3",
      "display_name": "Python 3"
    },
    "language_info": {
      "name": "python"
    },
    "accelerator": "GPU"
  },
  "cells": [
    {
      "cell_type": "code",
      "source": [
        "import sklearn"
      ],
      "metadata": {
        "id": "I9PuWF204cyl"
      },
      "execution_count": 3,
      "outputs": []
    },
    {
      "cell_type": "code",
      "source": [
        "from sklearn.feature_extraction.text import TfidfVectorizer\n",
        "\n",
        "corpus = [\n",
        "    \"Thor eating pizza, Loki is eating Pizza, Ironman ate pizza already\",\n",
        "    \"Apple is announcing a new iphone tomorrow\",\n",
        "    \"Tesla is announing a new model-3 tomorrow\",\n",
        "    \"Google is announcing a new pixel-6 tomorrow\",\n",
        "    \"Microsoft is announcing new surface tomorrow\",\n",
        "    \"Amazon is announing new eco-dot tomorrow\",\n",
        "    \"I am eating biryani and you are eating grapes\",\n",
        "    \"something is amazing\"\n",
        "]"
      ],
      "metadata": {
        "id": "SPckGjeD4n97"
      },
      "execution_count": 2,
      "outputs": []
    },
    {
      "cell_type": "code",
      "source": [
        "v = TfidfVectorizer()\n",
        "transformed_output = v.fit_transform(corpus)\n",
        "print(v.vocabulary_)"
      ],
      "metadata": {
        "colab": {
          "base_uri": "https://localhost:8080/"
        },
        "id": "kol9CfsG5WDV",
        "outputId": "1255f6f1-c578-49e2-f201-a4753af6dcc1"
      },
      "execution_count": 4,
      "outputs": [
        {
          "output_type": "stream",
          "name": "stdout",
          "text": [
            "{'thor': 28, 'eating': 12, 'pizza': 24, 'loki': 19, 'is': 18, 'ironman': 17, 'ate': 9, 'already': 0, 'apple': 7, 'announcing': 5, 'new': 22, 'iphone': 16, 'tomorrow': 29, 'tesla': 27, 'announing': 6, 'model': 21, 'google': 14, 'pixel': 23, 'microsoft': 20, 'surface': 26, 'amazon': 3, 'eco': 13, 'dot': 11, 'am': 1, 'biryani': 10, 'and': 4, 'you': 30, 'are': 8, 'grapes': 15, 'something': 25, 'amazing': 2}\n"
          ]
        }
      ]
    },
    {
      "cell_type": "code",
      "source": [
        "all_feature_names = v.get_feature_names_out()\n",
        "for word in all_feature_names:\n",
        "  indx = v.vocabulary_.get(word)\n",
        "  print(f\"{word} {v.idf_[indx]}\")"
      ],
      "metadata": {
        "colab": {
          "base_uri": "https://localhost:8080/"
        },
        "id": "X1Jj6C4s50JU",
        "outputId": "bbd78b53-d944-4f06-e50f-6b5dbdbd8a3a"
      },
      "execution_count": 5,
      "outputs": [
        {
          "output_type": "stream",
          "name": "stdout",
          "text": [
            "already 2.504077396776274\n",
            "am 2.504077396776274\n",
            "amazing 2.504077396776274\n",
            "amazon 2.504077396776274\n",
            "and 2.504077396776274\n",
            "announcing 1.8109302162163288\n",
            "announing 2.09861228866811\n",
            "apple 2.504077396776274\n",
            "are 2.504077396776274\n",
            "ate 2.504077396776274\n",
            "biryani 2.504077396776274\n",
            "dot 2.504077396776274\n",
            "eating 2.09861228866811\n",
            "eco 2.504077396776274\n",
            "google 2.504077396776274\n",
            "grapes 2.504077396776274\n",
            "iphone 2.504077396776274\n",
            "ironman 2.504077396776274\n",
            "is 1.1177830356563834\n",
            "loki 2.504077396776274\n",
            "microsoft 2.504077396776274\n",
            "model 2.504077396776274\n",
            "new 1.4054651081081644\n",
            "pixel 2.504077396776274\n",
            "pizza 2.504077396776274\n",
            "something 2.504077396776274\n",
            "surface 2.504077396776274\n",
            "tesla 2.504077396776274\n",
            "thor 2.504077396776274\n",
            "tomorrow 1.4054651081081644\n",
            "you 2.504077396776274\n"
          ]
        }
      ]
    },
    {
      "cell_type": "code",
      "source": [
        "corpus[:2]"
      ],
      "metadata": {
        "colab": {
          "base_uri": "https://localhost:8080/"
        },
        "id": "5vYXey0f6cht",
        "outputId": "eae642bd-1c3c-4905-d704-d10dd0b659b2"
      },
      "execution_count": 6,
      "outputs": [
        {
          "output_type": "execute_result",
          "data": {
            "text/plain": [
              "['Thor eating pizza, Loki is eating Pizza, Ironman ate pizza already',\n",
              " 'Apple is announcing a new iphone tomorrow']"
            ]
          },
          "metadata": {},
          "execution_count": 6
        }
      ]
    },
    {
      "cell_type": "code",
      "source": [
        "transformed_output.toarray()[:2]"
      ],
      "metadata": {
        "colab": {
          "base_uri": "https://localhost:8080/"
        },
        "id": "dfPJ6mXh6eVJ",
        "outputId": "7fca90be-75ff-42ec-a5de-fa0b9e8fd2ad"
      },
      "execution_count": 7,
      "outputs": [
        {
          "output_type": "execute_result",
          "data": {
            "text/plain": [
              "array([[0.24247317, 0.        , 0.        , 0.        , 0.        ,\n",
              "        0.        , 0.        , 0.        , 0.        , 0.24247317,\n",
              "        0.        , 0.        , 0.40642288, 0.        , 0.        ,\n",
              "        0.        , 0.        , 0.24247317, 0.10823643, 0.24247317,\n",
              "        0.        , 0.        , 0.        , 0.        , 0.7274195 ,\n",
              "        0.        , 0.        , 0.        , 0.24247317, 0.        ,\n",
              "        0.        ],\n",
              "       [0.        , 0.        , 0.        , 0.        , 0.        ,\n",
              "        0.39498577, 0.        , 0.54616955, 0.        , 0.        ,\n",
              "        0.        , 0.        , 0.        , 0.        , 0.        ,\n",
              "        0.        , 0.54616955, 0.        , 0.24380199, 0.        ,\n",
              "        0.        , 0.        , 0.30654893, 0.        , 0.        ,\n",
              "        0.        , 0.        , 0.        , 0.        , 0.30654893,\n",
              "        0.        ]])"
            ]
          },
          "metadata": {},
          "execution_count": 7
        }
      ]
    }
  ]
}