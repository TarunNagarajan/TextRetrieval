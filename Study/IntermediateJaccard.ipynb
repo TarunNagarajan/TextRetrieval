{
  "nbformat": 4,
  "nbformat_minor": 0,
  "metadata": {
    "colab": {
      "provenance": []
    },
    "kernelspec": {
      "name": "python3",
      "display_name": "Python 3"
    },
    "language_info": {
      "name": "python"
    }
  },
  "cells": [
    {
      "cell_type": "code",
      "execution_count": null,
      "metadata": {
        "id": "QcSBuoGwtoIc"
      },
      "outputs": [],
      "source": [
        "!pip install nltk requests beautifulsoup4"
      ]
    },
    {
      "cell_type": "code",
      "source": [
        "import nltk\n",
        "nltk.download(\"stopwords\")\n",
        "from nltk.corpus import stopwords\n",
        "from nltk.stem import PorterStemmer\n",
        "\n",
        "import re\n",
        "from bs4 import BeautifulSoup\n",
        "import requests"
      ],
      "metadata": {
        "id": "UxY32gfkt5d6"
      },
      "execution_count": null,
      "outputs": []
    },
    {
      "cell_type": "code",
      "source": [
        "def fetch_wiki_text(url):\n",
        "  response = requests.get(url)\n",
        "  if response.status_code != 200:\n",
        "    print(f\"Failed to fetch {url}\")\n",
        "    return \"\"\n",
        "\n",
        "  soup = BeautifulSoup(response.content, \"html.parser\")\n",
        "\n",
        "  paragraphs = soup.find_all('p')\n",
        "  text = \" \".join([para.get_text() for para in paragraphs])\n",
        "\n",
        "  text = re.sub(r'\\W+', ' ', text).lower()\n",
        "\n",
        "  return text"
      ],
      "metadata": {
        "id": "VfHVBEG6uE7k"
      },
      "execution_count": 4,
      "outputs": []
    },
    {
      "cell_type": "code",
      "source": [
        "def preprocess_text(text):\n",
        "  words = text.split()\n",
        "  stop_words = set(stopwords.words(\"english\"))\n",
        "  words = [word for word in words if word not in stop_words]\n",
        "  stemmer = PorterStemmer()\n",
        "  words = [stemmer.stem(word) for word in words]\n",
        "  return set(words)"
      ],
      "metadata": {
        "id": "q-R1lhxjuU-H"
      },
      "execution_count": 8,
      "outputs": []
    },
    {
      "cell_type": "code",
      "source": [
        "urls = [\n",
        "    \"https://en.wikipedia.org/wiki/Apollo_8\",\n",
        "    \"https://en.wikipedia.org/wiki/Machine_learning\",\n",
        "    \"https://en.wikipedia.org/wiki/Artificial_intelligence\"\n",
        "]\n",
        "\n",
        "texts = [fetch_wiki_text(url) for url in urls]\n",
        "preprocessed_tokens = [preprocess_text(text) for text in texts]"
      ],
      "metadata": {
        "id": "Y5oOh5K_ux2p"
      },
      "execution_count": 9,
      "outputs": []
    },
    {
      "cell_type": "code",
      "source": [
        "def jaccard_similarity(set1, set2):\n",
        "  intersection = len(set1.intersection(set2))\n",
        "  union = len(set1.union(set2))\n",
        "  return intersection/union"
      ],
      "metadata": {
        "id": "DPISwxTSwzM2"
      },
      "execution_count": 11,
      "outputs": []
    },
    {
      "cell_type": "code",
      "source": [
        "import matplotlib.pyplot as plt\n",
        "import numpy as np\n",
        "\n",
        "def plot_similarity_heatmap(similarities, labels):\n",
        "  fig, ax = plt.subplots()\n",
        "  cax = ax.matshow(similarities, cmap = 'coolwarm')\n",
        "  plt.colorbar(cax)\n",
        "\n",
        "  ax.set_xticks(np.arange(len(labels)))\n",
        "  ax.set_yticks(np.arange(len(labels)))\n",
        "  ax.set_xticklabels(labels)\n",
        "  ax.set_yticklabels(labels)\n",
        "  plt.title(\"Jaccard Similarity Heatmap\")\n",
        "  plt.show()"
      ],
      "metadata": {
        "id": "O5anx4KJvoy6"
      },
      "execution_count": 10,
      "outputs": []
    },
    {
      "cell_type": "code",
      "source": [
        "num_pages = len(preprocessed_tokens)\n",
        "similarities = np.zeros((num_pages, num_pages))\n",
        "\n",
        "for i in range(num_pages):\n",
        "  for j in range(num_pages):\n",
        "    if i != j:\n",
        "      similarities[i][j] = jaccard_similarity(preprocessed_tokens[i], preprocessed_tokens[j])\n",
        "\n",
        "labels = [f\"Page {i+1}\" for i in range (num_pages)]\n",
        "plot_similarity_heatmap(similarities, labels)"
      ],
      "metadata": {
        "colab": {
          "base_uri": "https://localhost:8080/",
          "height": 461
        },
        "id": "W_QSgvUCwkdO",
        "outputId": "e4789b10-1f1c-4929-c25b-75d6c483a0c2"
      },
      "execution_count": 12,
      "outputs": [
        {
          "output_type": "display_data",
          "data": {
            "text/plain": [
              "<Figure size 640x480 with 2 Axes>"
            ],
            "image/png": "[encoded data removed]"
          },
          "metadata": {}
        }
      ]
    }
  ]
}