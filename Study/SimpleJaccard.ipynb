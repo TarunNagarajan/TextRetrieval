{
  "nbformat": 4,
  "nbformat_minor": 0,
  "metadata": {
    "colab": {
      "provenance": []
    },
    "kernelspec": {
      "name": "python3",
      "display_name": "Python 3"
    },
    "language_info": {
      "name": "python"
    }
  },
  "cells": [
    {
      "cell_type": "code",
      "execution_count": 1,
      "metadata": {
        "colab": {
          "base_uri": "https://localhost:8080/"
        },
        "id": "rFE4J8RkqJoO",
        "outputId": "f0cd0caf-9900-4fa4-a210-da1ce60084e1"
      },
      "outputs": [
        {
          "output_type": "stream",
          "name": "stdout",
          "text": [
            "Requirement already satisfied: requests in /usr/local/lib/python3.10/dist-packages (2.32.3)\n",
            "Requirement already satisfied: beautifulsoup4 in /usr/local/lib/python3.10/dist-packages (4.12.3)\n",
            "Requirement already satisfied: charset-normalizer<4,>=2 in /usr/local/lib/python3.10/dist-packages (from requests) (3.4.0)\n",
            "Requirement already satisfied: idna<4,>=2.5 in /usr/local/lib/python3.10/dist-packages (from requests) (3.10)\n",
            "Requirement already satisfied: urllib3<3,>=1.21.1 in /usr/local/lib/python3.10/dist-packages (from requests) (2.2.3)\n",
            "Requirement already satisfied: certifi>=2017.4.17 in /usr/local/lib/python3.10/dist-packages (from requests) (2024.12.14)\n",
            "Requirement already satisfied: soupsieve>1.2 in /usr/local/lib/python3.10/dist-packages (from beautifulsoup4) (2.6)\n"
          ]
        }
      ],
      "source": [
        "!pip install requests beautifulsoup4"
      ]
    },
    {
      "cell_type": "code",
      "source": [
        "import requests\n",
        "from bs4 import BeautifulSoup\n",
        "import re"
      ],
      "metadata": {
        "id": "bahDWdS1qSzw"
      },
      "execution_count": 2,
      "outputs": []
    },
    {
      "cell_type": "code",
      "source": [
        "def fetch_wiki_text(url):\n",
        "  response = requests.get(url)\n",
        "  if response.status_code != 200:\n",
        "    print(f\"Failed to fetch {url}\")\n",
        "    return \"\"\n",
        "\n",
        "  soup = BeautifulSoup(response.content, \"html.parser\")\n",
        "\n",
        "  paragraphs = soup.find_all('p')\n",
        "  text = \" \".join([para.get_text() for para in paragraphs])\n",
        "\n",
        "  text = re.sub(r'\\W+', ' ', text).lower()\n",
        "\n",
        "  return text"
      ],
      "metadata": {
        "id": "P8p3e-kaqbkU"
      },
      "execution_count": 3,
      "outputs": []
    },
    {
      "cell_type": "code",
      "source": [
        "def tokenize_text(text):\n",
        "  return set(text.split())"
      ],
      "metadata": {
        "id": "gnAYfIoirZd8"
      },
      "execution_count": 4,
      "outputs": []
    },
    {
      "cell_type": "code",
      "source": [
        "def jaccard_similarity(set1, set2):\n",
        "  intersection = len(set1.intersection(set2))\n",
        "  union = len(set1.union(set2))\n",
        "  return intersection/union"
      ],
      "metadata": {
        "id": "Z5KlZd_dreL0"
      },
      "execution_count": 5,
      "outputs": []
    },
    {
      "cell_type": "code",
      "source": [
        "urls = [\n",
        "    \"https://en.wikipedia.org/wiki/Apollo_8\",\n",
        "    \"https://en.wikipedia.org/wiki/Machine_learning\",\n",
        "    \"https://en.wikipedia.org/wiki/Artificial_intelligence\"\n",
        "]\n",
        "\n",
        "texts = [fetch_wiki_text(url) for url in urls]\n",
        "tokens = [tokenize_text(text) for text in texts]"
      ],
      "metadata": {
        "id": "d23hdsVfrvHr"
      },
      "execution_count": 8,
      "outputs": []
    },
    {
      "cell_type": "code",
      "source": [
        "print(\"The Jaccard similarity between pages: \")\n",
        "for i in range(len(tokens)):\n",
        "  for j in range(i+1, len(tokens)):\n",
        "    similarity = jaccard_similarity(tokens[i], tokens[j])\n",
        "    print(f\"Page {i+1} and Page {j+1}: {similarity:.2f}\")"
      ],
      "metadata": {
        "colab": {
          "base_uri": "https://localhost:8080/"
        },
        "id": "0pI7BL-Or_DH",
        "outputId": "9d634762-df72-47d9-f83e-63bcae001caa"
      },
      "execution_count": 10,
      "outputs": [
        {
          "output_type": "stream",
          "name": "stdout",
          "text": [
            "The Jaccard similarity between pages: \n",
            "Page 1 and Page 2: 0.18\n",
            "Page 1 and Page 3: 0.19\n",
            "Page 2 and Page 3: 0.28\n"
          ]
        }
      ]
    }
  ]
}